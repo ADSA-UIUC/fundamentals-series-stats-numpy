{
 "cells": [
  {
   "cell_type": "markdown",
   "metadata": {
    "collapsed": true
   },
   "source": [
    "![ADSA Logo](http://i.imgur.com/BV0CdHZ.png?2 \"ADSA Logo\")"
   ]
  },
  {
   "cell_type": "markdown",
   "metadata": {},
   "source": [
    "# Spring 2016 ADSA Workshop - Data Science Fundamentals Series: Numpy, Statistics and Probability\n",
    "\n",
    "Workshop content adapted from:\n",
    "* https://github.com/ADSA-UIUC/PythonWorkshop_2"
   ]
  },
  {
   "cell_type": "code",
   "execution_count": 7,
   "metadata": {
    "collapsed": true
   },
   "outputs": [],
   "source": [
    "import numpy"
   ]
  },
  {
   "cell_type": "markdown",
   "metadata": {},
   "source": [
    "This workshop dives into data science fundamentals - statistics and probability. We will talk about the following topics:\n",
    "* How to use Numpy Library\n",
    "* Linear Algebra\n",
    "* Statistics\n",
    "* Probability with Python\n",
    "\n",
    "***"
   ]
  },
  {
   "cell_type": "markdown",
   "metadata": {},
   "source": [
    "Along with managing sets of data, python and numpy give you the tools to describe your set of data. \n",
    "\n",
    "Ways to describe data sets\n",
    "* Length\n",
    "* Max/Min\n",
    "* Mean, Median, Mode\n",
    "* Dispersion (Spread) of values\n",
    "* Standard Deviation\n",
    "* Graphically\n"
   ]
  },
  {
   "cell_type": "code",
   "execution_count": 18,
   "metadata": {
    "collapsed": true
   },
   "outputs": [],
   "source": [
    "basic_list = [14, 7, 15, 7, 3, 5, 6, 8, 10]"
   ]
  },
  {
   "cell_type": "code",
   "execution_count": 12,
   "metadata": {
    "collapsed": false
   },
   "outputs": [
    {
     "name": "stdout",
     "output_type": "stream",
     "text": [
      "length:  5\n"
     ]
    }
   ],
   "source": [
    "print \"length: \", len(basic_list)"
   ]
  },
  {
   "cell_type": "code",
   "execution_count": 13,
   "metadata": {
    "collapsed": false
   },
   "outputs": [
    {
     "name": "stdout",
     "output_type": "stream",
     "text": [
      "min:  3\n",
      "max:  10\n"
     ]
    }
   ],
   "source": [
    "print \"min: \", min(basic_list)\n",
    "print \"max: \", max(basic_list)"
   ]
  },
  {
   "cell_type": "code",
   "execution_count": 14,
   "metadata": {
    "collapsed": false
   },
   "outputs": [
    {
     "name": "stdout",
     "output_type": "stream",
     "text": [
      "average:  6\n"
     ]
    }
   ],
   "source": [
    "def mean(x):\n",
    " return sum(x) / len(x)\n",
    "\n",
    "print \"average: \", mean(basic_list)"
   ]
  },
  {
   "cell_type": "markdown",
   "metadata": {},
   "source": [
    "***\n",
    "You can also easily sort lists with sorted(), which helps when defining central tendencies"
   ]
  },
  {
   "cell_type": "code",
   "execution_count": 51,
   "metadata": {
    "collapsed": false
   },
   "outputs": [
    {
     "name": "stdout",
     "output_type": "stream",
     "text": [
      "original:  [14, 7, 15, 7, 3, 5, 6, 8, 10]\n",
      "sorted:    [3, 5, 6, 7, 7, 8, 10, 14, 15]\n"
     ]
    }
   ],
   "source": [
    "print \"original: \", basic_list\n",
    "sorted_list = sorted(basic_list)\n",
    "print \"sorted:   \", sorted_list"
   ]
  },
  {
   "cell_type": "markdown",
   "metadata": {},
   "source": [
    "If you already have a sorted list, you can use indexes to get the min/max values: "
   ]
  },
  {
   "cell_type": "code",
   "execution_count": 32,
   "metadata": {
    "collapsed": false
   },
   "outputs": [
    {
     "name": "stdout",
     "output_type": "stream",
     "text": [
      "Min:  3\n",
      "Max:  15\n"
     ]
    }
   ],
   "source": [
    "print \"Min: \", sorted_list[0]\n",
    "print \"Max: \", sorted_list[-1] # 1st from last"
   ]
  },
  {
   "cell_type": "markdown",
   "metadata": {},
   "source": [
    "Finding the median is a little less straightforward, just depends on whether length is even or odd"
   ]
  },
  {
   "cell_type": "code",
   "execution_count": 46,
   "metadata": {
    "collapsed": false
   },
   "outputs": [],
   "source": [
    "def median(v):\n",
    " n = len(v)\n",
    " sorted_v = sorted(v)\n",
    " midpoint = n // 2 # the '//' makes sure result is an int\n",
    " if n % 2 == 1: # if odd, return the middle value\n",
    "     return sorted_v[midpoint]\n",
    " else: # if even, return the average of the middle values\n",
    "     lo = midpoint - 1\n",
    "     hi = midpoint\n",
    "     return((sorted_v[lo] + sorted_v[hi]) / 2)"
   ]
  },
  {
   "cell_type": "code",
   "execution_count": 47,
   "metadata": {
    "collapsed": false
   },
   "outputs": [
    {
     "name": "stdout",
     "output_type": "stream",
     "text": [
      "Median:  7\n"
     ]
    }
   ],
   "source": [
    "print \"Median: \", median(basic_list)"
   ]
  },
  {
   "cell_type": "markdown",
   "metadata": {},
   "source": [
    "The quantile of a data set returns the pth percentile value"
   ]
  },
  {
   "cell_type": "code",
   "execution_count": 52,
   "metadata": {
    "collapsed": true
   },
   "outputs": [],
   "source": [
    "def quantile(x, p):\n",
    " p_index = int(p * len(x))\n",
    " return sorted(x)[p_index]"
   ]
  },
  {
   "cell_type": "code",
   "execution_count": 55,
   "metadata": {
    "collapsed": false
   },
   "outputs": [
    {
     "name": "stdout",
     "output_type": "stream",
     "text": [
      "1st Quantile (25th Percantile):  6\n",
      "3rd Quantile (75th Percantile):  10\n"
     ]
    }
   ],
   "source": [
    "print \"1st Quartile (25th Percantile): \", quantile(basic_list, .25)\n",
    "print \"3rd Quartile (75th Percantile): \", quantile(basic_list, .75)"
   ]
  },
  {
   "cell_type": "code",
   "execution_count": 56,
   "metadata": {
    "collapsed": true
   },
   "outputs": [],
   "source": [
    "def IQR(x): #IQR - interquartile range\n",
    " return quantile(x, 0.75) - quantile(x, 0.25)"
   ]
  },
  {
   "cell_type": "code",
   "execution_count": 58,
   "metadata": {
    "collapsed": false
   },
   "outputs": [
    {
     "name": "stdout",
     "output_type": "stream",
     "text": [
      " Interquartile Range:  4\n"
     ]
    }
   ],
   "source": [
    "print \"Interquartile Range: \", IQR(basic_list)"
   ]
  },
  {
   "cell_type": "code",
   "execution_count": null,
   "metadata": {
    "collapsed": true
   },
   "outputs": [],
   "source": []
  }
 ],
 "metadata": {
  "kernelspec": {
   "display_name": "Python 2",
   "language": "python",
   "name": "python2"
  },
  "language_info": {
   "codemirror_mode": {
    "name": "ipython",
    "version": 2
   },
   "file_extension": ".py",
   "mimetype": "text/x-python",
   "name": "python",
   "nbconvert_exporter": "python",
   "pygments_lexer": "ipython2",
   "version": "2.7.11"
  }
 },
 "nbformat": 4,
 "nbformat_minor": 0
}
