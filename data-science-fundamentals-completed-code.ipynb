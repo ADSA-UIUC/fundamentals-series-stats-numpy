{
 "cells": [
  {
   "cell_type": "markdown",
   "metadata": {
    "collapsed": true
   },
   "source": [
    "![ADSA Logo](http://i.imgur.com/BV0CdHZ.png?2 \"ADSA Logo\")"
   ]
  },
  {
   "cell_type": "markdown",
   "metadata": {},
   "source": [
    "# Spring 2016 ADSA Workshop - Data Science Fundamentals Series: Numpy, Statistics and Probability\n",
    "\n",
    "Workshop content adapted from:\n",
    "* https://github.com/ADSA-UIUC/PythonWorkshop_2"
   ]
  },
  {
   "cell_type": "code",
   "execution_count": 61,
   "metadata": {
    "collapsed": true
   },
   "outputs": [],
   "source": [
    "import numpy as np"
   ]
  },
  {
   "cell_type": "markdown",
   "metadata": {},
   "source": [
    "This workshop dives into data science fundamentals - statistics and probability. We will talk about the following topics:\n",
    "* How to use Numpy Library\n",
    "* Linear Algebra\n",
    "* Statistics\n",
    "* Probability with Python\n",
    "\n",
    "***"
   ]
  },
  {
   "cell_type": "markdown",
   "metadata": {},
   "source": [
    "Along with managing sets of data, python and numpy give you the tools to describe your set of data. \n",
    "\n",
    "Ways to describe data sets\n",
    "* Length\n",
    "* Max/Min\n",
    "* Mean, Median, Mode\n",
    "* Dispersion (Spread) of values\n",
    "* Standard Deviation"
   ]
  },
  {
   "cell_type": "code",
   "execution_count": 18,
   "metadata": {
    "collapsed": true
   },
   "outputs": [],
   "source": [
    "basic_list = [14, 7, 15, 7, 3, 5, 6, 8, 10]"
   ]
  },
  {
   "cell_type": "code",
   "execution_count": 12,
   "metadata": {
    "collapsed": false
   },
   "outputs": [
    {
     "name": "stdout",
     "output_type": "stream",
     "text": [
      "length:  5\n"
     ]
    }
   ],
   "source": [
    "print \"length: \", len(basic_list)"
   ]
  },
  {
   "cell_type": "code",
   "execution_count": 13,
   "metadata": {
    "collapsed": false
   },
   "outputs": [
    {
     "name": "stdout",
     "output_type": "stream",
     "text": [
      "min:  3\n",
      "max:  10\n"
     ]
    }
   ],
   "source": [
    "print \"min: \", min(basic_list)\n",
    "print \"max: \", max(basic_list)"
   ]
  },
  {
   "cell_type": "code",
   "execution_count": 14,
   "metadata": {
    "collapsed": false
   },
   "outputs": [
    {
     "name": "stdout",
     "output_type": "stream",
     "text": [
      "average:  6\n"
     ]
    }
   ],
   "source": [
    "def mean(x):\n",
    " return sum(x) / len(x)\n",
    "\n",
    "print \"average: \", mean(basic_list)"
   ]
  },
  {
   "cell_type": "markdown",
   "metadata": {},
   "source": [
    "***\n",
    "You can also easily sort lists with sorted(), which helps when defining central tendencies"
   ]
  },
  {
   "cell_type": "code",
   "execution_count": 51,
   "metadata": {
    "collapsed": false
   },
   "outputs": [
    {
     "name": "stdout",
     "output_type": "stream",
     "text": [
      "original:  [14, 7, 15, 7, 3, 5, 6, 8, 10]\n",
      "sorted:    [3, 5, 6, 7, 7, 8, 10, 14, 15]\n"
     ]
    }
   ],
   "source": [
    "print \"original: \", basic_list\n",
    "sorted_list = sorted(basic_list)\n",
    "print \"sorted:   \", sorted_list"
   ]
  },
  {
   "cell_type": "markdown",
   "metadata": {},
   "source": [
    "If you already have a sorted list, you can use indexes to get the min/max values: "
   ]
  },
  {
   "cell_type": "code",
   "execution_count": 32,
   "metadata": {
    "collapsed": false
   },
   "outputs": [
    {
     "name": "stdout",
     "output_type": "stream",
     "text": [
      "Min:  3\n",
      "Max:  15\n"
     ]
    }
   ],
   "source": [
    "print \"Min: \", sorted_list[0]\n",
    "print \"Max: \", sorted_list[-1] # 1st from last"
   ]
  },
  {
   "cell_type": "markdown",
   "metadata": {},
   "source": [
    "Finding the median is a little less straightforward, just depends on whether length is even or odd"
   ]
  },
  {
   "cell_type": "code",
   "execution_count": 46,
   "metadata": {
    "collapsed": false
   },
   "outputs": [],
   "source": [
    "def median(v):\n",
    " n = len(v)\n",
    " sorted_v = sorted(v)\n",
    " midpoint = n // 2 # the '//' makes sure result is an int\n",
    " if n % 2 == 1: # if odd, return the middle value\n",
    "     return sorted_v[midpoint]\n",
    " else: # if even, return the average of the middle values\n",
    "     lo = midpoint - 1\n",
    "     hi = midpoint\n",
    "     return((sorted_v[lo] + sorted_v[hi]) / 2)"
   ]
  },
  {
   "cell_type": "code",
   "execution_count": 47,
   "metadata": {
    "collapsed": false
   },
   "outputs": [
    {
     "name": "stdout",
     "output_type": "stream",
     "text": [
      "Median:  7\n"
     ]
    }
   ],
   "source": [
    "print \"Median: \", median(basic_list)"
   ]
  },
  {
   "cell_type": "markdown",
   "metadata": {},
   "source": [
    "The quantile of a data set returns the pth percentile value"
   ]
  },
  {
   "cell_type": "code",
   "execution_count": 52,
   "metadata": {
    "collapsed": true
   },
   "outputs": [],
   "source": [
    "def quantile(x, p):\n",
    " p_index = int(p * len(x))\n",
    " return sorted(x)[p_index]"
   ]
  },
  {
   "cell_type": "code",
   "execution_count": 55,
   "metadata": {
    "collapsed": false
   },
   "outputs": [
    {
     "name": "stdout",
     "output_type": "stream",
     "text": [
      "1st Quantile (25th Percantile):  6\n",
      "3rd Quantile (75th Percantile):  10\n"
     ]
    }
   ],
   "source": [
    "print \"1st Quartile (25th Percantile): \", quantile(basic_list, .25)\n",
    "print \"3rd Quartile (75th Percantile): \", quantile(basic_list, .75)"
   ]
  },
  {
   "cell_type": "code",
   "execution_count": 56,
   "metadata": {
    "collapsed": true
   },
   "outputs": [],
   "source": [
    "def IQR(x): #IQR - interquartile range\n",
    " return quantile(x, 0.75) - quantile(x, 0.25)"
   ]
  },
  {
   "cell_type": "code",
   "execution_count": 58,
   "metadata": {
    "collapsed": false
   },
   "outputs": [
    {
     "name": "stdout",
     "output_type": "stream",
     "text": [
      " Interquartile Range:  4\n"
     ]
    }
   ],
   "source": [
    "print \"Interquartile Range: \", IQR(basic_list)"
   ]
  },
  {
   "cell_type": "markdown",
   "metadata": {},
   "source": [
    "In addition to the many simple statistical functions you can write yourself, numpy gives you access to a lot more, including the common ones from above."
   ]
  },
  {
   "cell_type": "code",
   "execution_count": 63,
   "metadata": {
    "collapsed": false
   },
   "outputs": [
    {
     "name": "stdout",
     "output_type": "stream",
     "text": [
      "Standard Deviation:  3.77123616633\n"
     ]
    }
   ],
   "source": [
    "print \"Standard Deviation: \", np.std(basic_list)"
   ]
  },
  {
   "cell_type": "code",
   "execution_count": 67,
   "metadata": {
    "collapsed": false
   },
   "outputs": [
    {
     "name": "stdout",
     "output_type": "stream",
     "text": [
      "Correlation between x and y: \n",
      "[[ 1.          0.46158177]\n",
      " [ 0.46158177  1.        ]]\n"
     ]
    }
   ],
   "source": [
    "x = [14, 7, 15, 7, 3, 5, 6, 8, 10]\n",
    "y = [44, 3, 7, 2, 17, 5, 3, 11, 14]\n",
    "print \"Correlation between x and y: \\n\", np.corrcoef(x, y)"
   ]
  },
  {
   "cell_type": "markdown",
   "metadata": {},
   "source": [
    "***\n",
    "Now it's time for some basic probability and distributions to help with the upcoming workshops.\n",
    "* Probability: Quantifiying the uncertainty associated with a certain set of events\n",
    "* Used heavily to build and evaluate models"
   ]
  },
  {
   "cell_type": "markdown",
   "metadata": {},
   "source": [
    "Dependent vs Independent Events\n",
    "* E, F independent if P(E, F) = P(E)*P(F)\n",
    "* (The probability of both E and F happening is P(E)*P(F))\n",
    "\n",
    "* E, F dependent when P(E|F) = P(E,F)/P(F) = P(E|F)*P(F)"
   ]
  },
  {
   "cell_type": "markdown",
   "metadata": {},
   "source": [
    "Tricky Example: Family with two children\n",
    "1. Each child is equally likely to be a boy or a girl\n",
    "2. The gender of the second child is independent of the gender of the first child"
   ]
  },
  {
   "cell_type": "markdown",
   "metadata": {},
   "source": [
    "* B = \"both children are girls\", G = \"the older child is a girl\"\n",
    "* P(B|G) = P(B, G)/P(G) = P(B)/P(G) = 1/2\n",
    "\n",
    "* B = \"both children are girls\", G = \"at least one of the children is a girl\"\n",
    "* P(B|L) = P(B, L)/P(L) = P(B)/P(L) = 1/4 / 3/4 = 1/3 (????)"
   ]
  },
  {
   "cell_type": "code",
   "execution_count": 90,
   "metadata": {
    "collapsed": false
   },
   "outputs": [
    {
     "name": "stdout",
     "output_type": "stream",
     "text": [
      "P(both | older): 0\n",
      "P(both | either):  0\n"
     ]
    }
   ],
   "source": [
    "import random\n",
    "\n",
    "def random_kid():\n",
    "    return np.random.choice([\"boy\", \"girl\"])\n",
    "\n",
    "both_girls = 0\n",
    "older_girl = 0\n",
    "either_girl = 0\n",
    "random.seed(0)\n",
    "for _ in range(10000):\n",
    "    younger = random_kid()\n",
    "    older = random_kid()\n",
    "    if older == \"girl\":\n",
    "     older_girl += 1\n",
    "    if older == \"girl\" and younger == \"girl\":\n",
    "     both_girls += 1\n",
    "    if older == \"girl\" or younger == \"girl\":\n",
    "     either_girl += 1\n",
    "print \"P(both | older):\", both_girls / older_girl # 0.514 ~ 1/2\n",
    "print \"P(both | either): \", both_girls / either_girl # 0.342 ~ 1/3\n",
    "# ??? code will not run p71"
   ]
  },
  {
   "cell_type": "code",
   "execution_count": null,
   "metadata": {
    "collapsed": true
   },
   "outputs": [],
   "source": []
  },
  {
   "cell_type": "code",
   "execution_count": null,
   "metadata": {
    "collapsed": true
   },
   "outputs": [],
   "source": []
  },
  {
   "cell_type": "code",
   "execution_count": null,
   "metadata": {
    "collapsed": true
   },
   "outputs": [],
   "source": []
  },
  {
   "cell_type": "code",
   "execution_count": null,
   "metadata": {
    "collapsed": true
   },
   "outputs": [],
   "source": []
  },
  {
   "cell_type": "code",
   "execution_count": null,
   "metadata": {
    "collapsed": true
   },
   "outputs": [],
   "source": []
  },
  {
   "cell_type": "code",
   "execution_count": null,
   "metadata": {
    "collapsed": true
   },
   "outputs": [],
   "source": []
  },
  {
   "cell_type": "code",
   "execution_count": null,
   "metadata": {
    "collapsed": true
   },
   "outputs": [],
   "source": []
  },
  {
   "cell_type": "code",
   "execution_count": null,
   "metadata": {
    "collapsed": true
   },
   "outputs": [],
   "source": []
  },
  {
   "cell_type": "code",
   "execution_count": null,
   "metadata": {
    "collapsed": true
   },
   "outputs": [],
   "source": []
  },
  {
   "cell_type": "code",
   "execution_count": null,
   "metadata": {
    "collapsed": true
   },
   "outputs": [],
   "source": []
  },
  {
   "cell_type": "code",
   "execution_count": null,
   "metadata": {
    "collapsed": true
   },
   "outputs": [],
   "source": []
  },
  {
   "cell_type": "code",
   "execution_count": null,
   "metadata": {
    "collapsed": true
   },
   "outputs": [],
   "source": []
  },
  {
   "cell_type": "code",
   "execution_count": null,
   "metadata": {
    "collapsed": true
   },
   "outputs": [],
   "source": []
  }
 ],
 "metadata": {
  "kernelspec": {
   "display_name": "Python 2",
   "language": "python",
   "name": "python2"
  },
  "language_info": {
   "codemirror_mode": {
    "name": "ipython",
    "version": 2
   },
   "file_extension": ".py",
   "mimetype": "text/x-python",
   "name": "python",
   "nbconvert_exporter": "python",
   "pygments_lexer": "ipython2",
   "version": "2.7.11"
  }
 },
 "nbformat": 4,
 "nbformat_minor": 0
}
